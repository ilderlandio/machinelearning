{
  "nbformat": 4,
  "nbformat_minor": 0,
  "metadata": {
    "colab": {
      "name": "Problema Regressão da Resistência à Compressão do Concreto usando KNN.ipynb",
      "provenance": [],
      "collapsed_sections": []
    },
    "kernelspec": {
      "name": "python3",
      "display_name": "Python 3"
    },
    "language_info": {
      "name": "python"
    }
  },
  "cells": [
    {
      "cell_type": "markdown",
      "metadata": {
        "id": "8r_v8DR8CLHk"
      },
      "source": [
        "Concrete compressive strength(Resistência à compressão do concreto) - **Fck** - medida em megapascal (MPa). O Fck indica, a qual tensão máxima o concreto tem capacidade de resistir. Testes de resistência no concreto possibilitam confirmar a tensão máxima a que ele resistirá antes de sofrer ruptura.\n",
        "\n",
        "**Curiosidade:**Ensaio de Resistência à compressão do Concreto:\n",
        "https://www.youtube.com/watch?v=6TsqUeLjHA8\n",
        "\n",
        "**Fatores que podem afetar resistência à compressão do concreto**\n",
        "Dosagem inadequada dos insumos, cura indevida ou ausente, adição inapropriada de água, incompatibilidade ou baixa qualidade de insumos, idade, etc. \n",
        "\n",
        "Este é um problema de regressão, o objetivo é estimar um modelo para predizer um **Fck** com base nos insumos usados e a idade do concreto. \n",
        "\n",
        "Fonte:https://archive.ics.uci.edu/ml/datasets/Concrete+Compressive+Strength\n"
      ]
    },
    {
      "cell_type": "code",
      "metadata": {
        "id": "UeATmutUwUpR"
      },
      "source": [
        "from sklearn import neighbors\n",
        "from sklearn import linear_model\n",
        "from sklearn.model_selection import train_test_split\n",
        "from sklearn import metrics\n",
        "from sklearn import preprocessing\n",
        "import numpy as np\n",
        "import pandas as pd"
      ],
      "execution_count": null,
      "outputs": []
    },
    {
      "cell_type": "markdown",
      "metadata": {
        "id": "J64FHwpwA0kY"
      },
      "source": [
        "O dataset é em .xls, então usei o método de read_excel, o separador ele identifica automaticamente. "
      ]
    },
    {
      "cell_type": "code",
      "metadata": {
        "id": "uQxYLNpkx44n"
      },
      "source": [
        "data = pd.read_excel('/content/drive/MyDrive/colab/Concrete_Data.xls')"
      ],
      "execution_count": null,
      "outputs": []
    },
    {
      "cell_type": "markdown",
      "metadata": {
        "id": "Q5J3h83D74vn"
      },
      "source": [
        "**Uma prévia dos dados e uma noção dos valores.**\n",
        "Atributos(Colunas):\n",
        "1 - Cement - **Cimento **\n",
        "2 - Blast Furnace Slag** (Resíduo não metálico, reduzir ~5% da emissão de CO2)**\n",
        "3 - Fly Ash - **Cinzas Volantes(Opção parcial ao cimento Portland)**\n",
        "4 - Water - **Água**\n",
        "5 - Superplasticizer - **Superplastificante (Aditivo muito importante)**\n",
        "6 - Coarse Aggregate - **Agredado Grosso (Pedrgulho)**\n",
        "7 - Fine Aggregate - **Agregado fino(Areia)**\n",
        "8 - Age - Idade em dias, após a aplicação.\n",
        "\n",
        "A saída é última coluna(Fck), é o que quero inferir, a variável alvo. "
      ]
    },
    {
      "cell_type": "code",
      "metadata": {
        "colab": {
          "base_uri": "https://localhost:8080/",
          "height": 465
        },
        "id": "pEqfUOA7yHIA",
        "outputId": "945fb962-3aad-42e7-bc53-aec1c9d37786"
      },
      "source": [
        "data"
      ],
      "execution_count": null,
      "outputs": [
        {
          "output_type": "execute_result",
          "data": {
            "text/html": [
              "<div>\n",
              "<style scoped>\n",
              "    .dataframe tbody tr th:only-of-type {\n",
              "        vertical-align: middle;\n",
              "    }\n",
              "\n",
              "    .dataframe tbody tr th {\n",
              "        vertical-align: top;\n",
              "    }\n",
              "\n",
              "    .dataframe thead th {\n",
              "        text-align: right;\n",
              "    }\n",
              "</style>\n",
              "<table border=\"1\" class=\"dataframe\">\n",
              "  <thead>\n",
              "    <tr style=\"text-align: right;\">\n",
              "      <th></th>\n",
              "      <th>Cement (component 1)(kg in a m^3 mixture)</th>\n",
              "      <th>Blast Furnace Slag (component 2)(kg in a m^3 mixture)</th>\n",
              "      <th>Fly Ash (component 3)(kg in a m^3 mixture)</th>\n",
              "      <th>Water  (component 4)(kg in a m^3 mixture)</th>\n",
              "      <th>Superplasticizer (component 5)(kg in a m^3 mixture)</th>\n",
              "      <th>Coarse Aggregate  (component 6)(kg in a m^3 mixture)</th>\n",
              "      <th>Fine Aggregate (component 7)(kg in a m^3 mixture)</th>\n",
              "      <th>Age (day)</th>\n",
              "      <th>Concrete compressive strength(MPa, megapascals)</th>\n",
              "    </tr>\n",
              "  </thead>\n",
              "  <tbody>\n",
              "    <tr>\n",
              "      <th>0</th>\n",
              "      <td>540.0</td>\n",
              "      <td>0.0</td>\n",
              "      <td>0.0</td>\n",
              "      <td>162.0</td>\n",
              "      <td>2.5</td>\n",
              "      <td>1040.0</td>\n",
              "      <td>676.0</td>\n",
              "      <td>28</td>\n",
              "      <td>79.986111</td>\n",
              "    </tr>\n",
              "    <tr>\n",
              "      <th>1</th>\n",
              "      <td>540.0</td>\n",
              "      <td>0.0</td>\n",
              "      <td>0.0</td>\n",
              "      <td>162.0</td>\n",
              "      <td>2.5</td>\n",
              "      <td>1055.0</td>\n",
              "      <td>676.0</td>\n",
              "      <td>28</td>\n",
              "      <td>61.887366</td>\n",
              "    </tr>\n",
              "    <tr>\n",
              "      <th>2</th>\n",
              "      <td>332.5</td>\n",
              "      <td>142.5</td>\n",
              "      <td>0.0</td>\n",
              "      <td>228.0</td>\n",
              "      <td>0.0</td>\n",
              "      <td>932.0</td>\n",
              "      <td>594.0</td>\n",
              "      <td>270</td>\n",
              "      <td>40.269535</td>\n",
              "    </tr>\n",
              "    <tr>\n",
              "      <th>3</th>\n",
              "      <td>332.5</td>\n",
              "      <td>142.5</td>\n",
              "      <td>0.0</td>\n",
              "      <td>228.0</td>\n",
              "      <td>0.0</td>\n",
              "      <td>932.0</td>\n",
              "      <td>594.0</td>\n",
              "      <td>365</td>\n",
              "      <td>41.052780</td>\n",
              "    </tr>\n",
              "    <tr>\n",
              "      <th>4</th>\n",
              "      <td>198.6</td>\n",
              "      <td>132.4</td>\n",
              "      <td>0.0</td>\n",
              "      <td>192.0</td>\n",
              "      <td>0.0</td>\n",
              "      <td>978.4</td>\n",
              "      <td>825.5</td>\n",
              "      <td>360</td>\n",
              "      <td>44.296075</td>\n",
              "    </tr>\n",
              "    <tr>\n",
              "      <th>...</th>\n",
              "      <td>...</td>\n",
              "      <td>...</td>\n",
              "      <td>...</td>\n",
              "      <td>...</td>\n",
              "      <td>...</td>\n",
              "      <td>...</td>\n",
              "      <td>...</td>\n",
              "      <td>...</td>\n",
              "      <td>...</td>\n",
              "    </tr>\n",
              "    <tr>\n",
              "      <th>1025</th>\n",
              "      <td>276.4</td>\n",
              "      <td>116.0</td>\n",
              "      <td>90.3</td>\n",
              "      <td>179.6</td>\n",
              "      <td>8.9</td>\n",
              "      <td>870.1</td>\n",
              "      <td>768.3</td>\n",
              "      <td>28</td>\n",
              "      <td>44.284354</td>\n",
              "    </tr>\n",
              "    <tr>\n",
              "      <th>1026</th>\n",
              "      <td>322.2</td>\n",
              "      <td>0.0</td>\n",
              "      <td>115.6</td>\n",
              "      <td>196.0</td>\n",
              "      <td>10.4</td>\n",
              "      <td>817.9</td>\n",
              "      <td>813.4</td>\n",
              "      <td>28</td>\n",
              "      <td>31.178794</td>\n",
              "    </tr>\n",
              "    <tr>\n",
              "      <th>1027</th>\n",
              "      <td>148.5</td>\n",
              "      <td>139.4</td>\n",
              "      <td>108.6</td>\n",
              "      <td>192.7</td>\n",
              "      <td>6.1</td>\n",
              "      <td>892.4</td>\n",
              "      <td>780.0</td>\n",
              "      <td>28</td>\n",
              "      <td>23.696601</td>\n",
              "    </tr>\n",
              "    <tr>\n",
              "      <th>1028</th>\n",
              "      <td>159.1</td>\n",
              "      <td>186.7</td>\n",
              "      <td>0.0</td>\n",
              "      <td>175.6</td>\n",
              "      <td>11.3</td>\n",
              "      <td>989.6</td>\n",
              "      <td>788.9</td>\n",
              "      <td>28</td>\n",
              "      <td>32.768036</td>\n",
              "    </tr>\n",
              "    <tr>\n",
              "      <th>1029</th>\n",
              "      <td>260.9</td>\n",
              "      <td>100.5</td>\n",
              "      <td>78.3</td>\n",
              "      <td>200.6</td>\n",
              "      <td>8.6</td>\n",
              "      <td>864.5</td>\n",
              "      <td>761.5</td>\n",
              "      <td>28</td>\n",
              "      <td>32.401235</td>\n",
              "    </tr>\n",
              "  </tbody>\n",
              "</table>\n",
              "<p>1030 rows × 9 columns</p>\n",
              "</div>"
            ],
            "text/plain": [
              "      Cement (component 1)(kg in a m^3 mixture)  ...  Concrete compressive strength(MPa, megapascals) \n",
              "0                                         540.0  ...                                         79.986111\n",
              "1                                         540.0  ...                                         61.887366\n",
              "2                                         332.5  ...                                         40.269535\n",
              "3                                         332.5  ...                                         41.052780\n",
              "4                                         198.6  ...                                         44.296075\n",
              "...                                         ...  ...                                               ...\n",
              "1025                                      276.4  ...                                         44.284354\n",
              "1026                                      322.2  ...                                         31.178794\n",
              "1027                                      148.5  ...                                         23.696601\n",
              "1028                                      159.1  ...                                         32.768036\n",
              "1029                                      260.9  ...                                         32.401235\n",
              "\n",
              "[1030 rows x 9 columns]"
            ]
          },
          "metadata": {
            "tags": []
          },
          "execution_count": 14
        }
      ]
    },
    {
      "cell_type": "markdown",
      "metadata": {
        "id": "j0py2WmgLbQK"
      },
      "source": [
        "Verifica se o dataset não possui valores nulos, de fato não existem. "
      ]
    },
    {
      "cell_type": "code",
      "metadata": {
        "colab": {
          "base_uri": "https://localhost:8080/"
        },
        "id": "vqKcuHmNLRzH",
        "outputId": "7a74687e-ff44-4b26-8555-2c42107b2a6e"
      },
      "source": [
        "data.isnull().sum()"
      ],
      "execution_count": null,
      "outputs": [
        {
          "output_type": "execute_result",
          "data": {
            "text/plain": [
              "Cement (component 1)(kg in a m^3 mixture)                0\n",
              "Blast Furnace Slag (component 2)(kg in a m^3 mixture)    0\n",
              "Fly Ash (component 3)(kg in a m^3 mixture)               0\n",
              "Water  (component 4)(kg in a m^3 mixture)                0\n",
              "Superplasticizer (component 5)(kg in a m^3 mixture)      0\n",
              "Coarse Aggregate  (component 6)(kg in a m^3 mixture)     0\n",
              "Fine Aggregate (component 7)(kg in a m^3 mixture)        0\n",
              "Age (day)                                                0\n",
              "Concrete compressive strength(MPa, megapascals)          0\n",
              "dtype: int64"
            ]
          },
          "metadata": {
            "tags": []
          },
          "execution_count": 15
        }
      ]
    },
    {
      "cell_type": "markdown",
      "metadata": {
        "id": "ZydNjNzeB09J"
      },
      "source": [
        "As colunas e as 5 primeiras linhas do dataset"
      ]
    },
    {
      "cell_type": "code",
      "metadata": {
        "colab": {
          "base_uri": "https://localhost:8080/",
          "height": 252
        },
        "id": "UquoQ1lmypOf",
        "outputId": "2a647f05-ba7d-472f-8799-b3ecdd44412e"
      },
      "source": [
        "data.head()"
      ],
      "execution_count": null,
      "outputs": [
        {
          "output_type": "execute_result",
          "data": {
            "text/html": [
              "<div>\n",
              "<style scoped>\n",
              "    .dataframe tbody tr th:only-of-type {\n",
              "        vertical-align: middle;\n",
              "    }\n",
              "\n",
              "    .dataframe tbody tr th {\n",
              "        vertical-align: top;\n",
              "    }\n",
              "\n",
              "    .dataframe thead th {\n",
              "        text-align: right;\n",
              "    }\n",
              "</style>\n",
              "<table border=\"1\" class=\"dataframe\">\n",
              "  <thead>\n",
              "    <tr style=\"text-align: right;\">\n",
              "      <th></th>\n",
              "      <th>Cement (component 1)(kg in a m^3 mixture)</th>\n",
              "      <th>Blast Furnace Slag (component 2)(kg in a m^3 mixture)</th>\n",
              "      <th>Fly Ash (component 3)(kg in a m^3 mixture)</th>\n",
              "      <th>Water  (component 4)(kg in a m^3 mixture)</th>\n",
              "      <th>Superplasticizer (component 5)(kg in a m^3 mixture)</th>\n",
              "      <th>Coarse Aggregate  (component 6)(kg in a m^3 mixture)</th>\n",
              "      <th>Fine Aggregate (component 7)(kg in a m^3 mixture)</th>\n",
              "      <th>Age (day)</th>\n",
              "      <th>Concrete compressive strength(MPa, megapascals)</th>\n",
              "    </tr>\n",
              "  </thead>\n",
              "  <tbody>\n",
              "    <tr>\n",
              "      <th>0</th>\n",
              "      <td>540.0</td>\n",
              "      <td>0.0</td>\n",
              "      <td>0.0</td>\n",
              "      <td>162.0</td>\n",
              "      <td>2.5</td>\n",
              "      <td>1040.0</td>\n",
              "      <td>676.0</td>\n",
              "      <td>28</td>\n",
              "      <td>79.986111</td>\n",
              "    </tr>\n",
              "    <tr>\n",
              "      <th>1</th>\n",
              "      <td>540.0</td>\n",
              "      <td>0.0</td>\n",
              "      <td>0.0</td>\n",
              "      <td>162.0</td>\n",
              "      <td>2.5</td>\n",
              "      <td>1055.0</td>\n",
              "      <td>676.0</td>\n",
              "      <td>28</td>\n",
              "      <td>61.887366</td>\n",
              "    </tr>\n",
              "    <tr>\n",
              "      <th>2</th>\n",
              "      <td>332.5</td>\n",
              "      <td>142.5</td>\n",
              "      <td>0.0</td>\n",
              "      <td>228.0</td>\n",
              "      <td>0.0</td>\n",
              "      <td>932.0</td>\n",
              "      <td>594.0</td>\n",
              "      <td>270</td>\n",
              "      <td>40.269535</td>\n",
              "    </tr>\n",
              "    <tr>\n",
              "      <th>3</th>\n",
              "      <td>332.5</td>\n",
              "      <td>142.5</td>\n",
              "      <td>0.0</td>\n",
              "      <td>228.0</td>\n",
              "      <td>0.0</td>\n",
              "      <td>932.0</td>\n",
              "      <td>594.0</td>\n",
              "      <td>365</td>\n",
              "      <td>41.052780</td>\n",
              "    </tr>\n",
              "    <tr>\n",
              "      <th>4</th>\n",
              "      <td>198.6</td>\n",
              "      <td>132.4</td>\n",
              "      <td>0.0</td>\n",
              "      <td>192.0</td>\n",
              "      <td>0.0</td>\n",
              "      <td>978.4</td>\n",
              "      <td>825.5</td>\n",
              "      <td>360</td>\n",
              "      <td>44.296075</td>\n",
              "    </tr>\n",
              "  </tbody>\n",
              "</table>\n",
              "</div>"
            ],
            "text/plain": [
              "   Cement (component 1)(kg in a m^3 mixture)  ...  Concrete compressive strength(MPa, megapascals) \n",
              "0                                      540.0  ...                                         79.986111\n",
              "1                                      540.0  ...                                         61.887366\n",
              "2                                      332.5  ...                                         40.269535\n",
              "3                                      332.5  ...                                         41.052780\n",
              "4                                      198.6  ...                                         44.296075\n",
              "\n",
              "[5 rows x 9 columns]"
            ]
          },
          "metadata": {
            "tags": []
          },
          "execution_count": 16
        }
      ]
    },
    {
      "cell_type": "code",
      "metadata": {
        "colab": {
          "base_uri": "https://localhost:8080/"
        },
        "id": "rcacEKy25jXI",
        "outputId": "2c9d9dc4-e6a4-43a8-c6ac-e87422a2940c"
      },
      "source": [
        "data.info()\n"
      ],
      "execution_count": null,
      "outputs": [
        {
          "output_type": "stream",
          "text": [
            "<class 'pandas.core.frame.DataFrame'>\n",
            "RangeIndex: 1030 entries, 0 to 1029\n",
            "Data columns (total 9 columns):\n",
            " #   Column                                                 Non-Null Count  Dtype  \n",
            "---  ------                                                 --------------  -----  \n",
            " 0   Cement (component 1)(kg in a m^3 mixture)              1030 non-null   float64\n",
            " 1   Blast Furnace Slag (component 2)(kg in a m^3 mixture)  1030 non-null   float64\n",
            " 2   Fly Ash (component 3)(kg in a m^3 mixture)             1030 non-null   float64\n",
            " 3   Water  (component 4)(kg in a m^3 mixture)              1030 non-null   float64\n",
            " 4   Superplasticizer (component 5)(kg in a m^3 mixture)    1030 non-null   float64\n",
            " 5   Coarse Aggregate  (component 6)(kg in a m^3 mixture)   1030 non-null   float64\n",
            " 6   Fine Aggregate (component 7)(kg in a m^3 mixture)      1030 non-null   float64\n",
            " 7   Age (day)                                              1030 non-null   int64  \n",
            " 8   Concrete compressive strength(MPa, megapascals)        1030 non-null   float64\n",
            "dtypes: float64(8), int64(1)\n",
            "memory usage: 72.5 KB\n"
          ],
          "name": "stdout"
        }
      ]
    },
    {
      "cell_type": "markdown",
      "metadata": {
        "id": "5F4hfcxhGQ0d"
      },
      "source": [
        "Estatísticas descritivas do dataset.\n",
        "Valores mínimos, médio, máximo, percentis e o desvio padrão(std) da Resistência à compressão de concreto(Fck) - Observação para o desvio padrão, em média os Fck varia em 16, ou seja, 35 - 16 ou 35 + 16. Bom lembrar que um algoritmo bom não pode fazer previsões com erros maiores que o desvio padrão, 16. Nosso objetivo é criar um modelo que faça previsões com erros menores que o desvio padrão atual. "
      ]
    },
    {
      "cell_type": "code",
      "metadata": {
        "colab": {
          "base_uri": "https://localhost:8080/",
          "height": 345
        },
        "id": "KkFlQXA5y4qg",
        "outputId": "37041de2-53ee-4545-8640-506f6d44acff"
      },
      "source": [
        "data.describe()"
      ],
      "execution_count": null,
      "outputs": [
        {
          "output_type": "execute_result",
          "data": {
            "text/html": [
              "<div>\n",
              "<style scoped>\n",
              "    .dataframe tbody tr th:only-of-type {\n",
              "        vertical-align: middle;\n",
              "    }\n",
              "\n",
              "    .dataframe tbody tr th {\n",
              "        vertical-align: top;\n",
              "    }\n",
              "\n",
              "    .dataframe thead th {\n",
              "        text-align: right;\n",
              "    }\n",
              "</style>\n",
              "<table border=\"1\" class=\"dataframe\">\n",
              "  <thead>\n",
              "    <tr style=\"text-align: right;\">\n",
              "      <th></th>\n",
              "      <th>Cement (component 1)(kg in a m^3 mixture)</th>\n",
              "      <th>Blast Furnace Slag (component 2)(kg in a m^3 mixture)</th>\n",
              "      <th>Fly Ash (component 3)(kg in a m^3 mixture)</th>\n",
              "      <th>Water  (component 4)(kg in a m^3 mixture)</th>\n",
              "      <th>Superplasticizer (component 5)(kg in a m^3 mixture)</th>\n",
              "      <th>Coarse Aggregate  (component 6)(kg in a m^3 mixture)</th>\n",
              "      <th>Fine Aggregate (component 7)(kg in a m^3 mixture)</th>\n",
              "      <th>Age (day)</th>\n",
              "      <th>Concrete compressive strength(MPa, megapascals)</th>\n",
              "    </tr>\n",
              "  </thead>\n",
              "  <tbody>\n",
              "    <tr>\n",
              "      <th>count</th>\n",
              "      <td>1030.000000</td>\n",
              "      <td>1030.000000</td>\n",
              "      <td>1030.000000</td>\n",
              "      <td>1030.000000</td>\n",
              "      <td>1030.000000</td>\n",
              "      <td>1030.000000</td>\n",
              "      <td>1030.000000</td>\n",
              "      <td>1030.000000</td>\n",
              "      <td>1030.000000</td>\n",
              "    </tr>\n",
              "    <tr>\n",
              "      <th>mean</th>\n",
              "      <td>281.165631</td>\n",
              "      <td>73.895485</td>\n",
              "      <td>54.187136</td>\n",
              "      <td>181.566359</td>\n",
              "      <td>6.203112</td>\n",
              "      <td>972.918592</td>\n",
              "      <td>773.578883</td>\n",
              "      <td>45.662136</td>\n",
              "      <td>35.817836</td>\n",
              "    </tr>\n",
              "    <tr>\n",
              "      <th>std</th>\n",
              "      <td>104.507142</td>\n",
              "      <td>86.279104</td>\n",
              "      <td>63.996469</td>\n",
              "      <td>21.355567</td>\n",
              "      <td>5.973492</td>\n",
              "      <td>77.753818</td>\n",
              "      <td>80.175427</td>\n",
              "      <td>63.169912</td>\n",
              "      <td>16.705679</td>\n",
              "    </tr>\n",
              "    <tr>\n",
              "      <th>min</th>\n",
              "      <td>102.000000</td>\n",
              "      <td>0.000000</td>\n",
              "      <td>0.000000</td>\n",
              "      <td>121.750000</td>\n",
              "      <td>0.000000</td>\n",
              "      <td>801.000000</td>\n",
              "      <td>594.000000</td>\n",
              "      <td>1.000000</td>\n",
              "      <td>2.331808</td>\n",
              "    </tr>\n",
              "    <tr>\n",
              "      <th>25%</th>\n",
              "      <td>192.375000</td>\n",
              "      <td>0.000000</td>\n",
              "      <td>0.000000</td>\n",
              "      <td>164.900000</td>\n",
              "      <td>0.000000</td>\n",
              "      <td>932.000000</td>\n",
              "      <td>730.950000</td>\n",
              "      <td>7.000000</td>\n",
              "      <td>23.707115</td>\n",
              "    </tr>\n",
              "    <tr>\n",
              "      <th>50%</th>\n",
              "      <td>272.900000</td>\n",
              "      <td>22.000000</td>\n",
              "      <td>0.000000</td>\n",
              "      <td>185.000000</td>\n",
              "      <td>6.350000</td>\n",
              "      <td>968.000000</td>\n",
              "      <td>779.510000</td>\n",
              "      <td>28.000000</td>\n",
              "      <td>34.442774</td>\n",
              "    </tr>\n",
              "    <tr>\n",
              "      <th>75%</th>\n",
              "      <td>350.000000</td>\n",
              "      <td>142.950000</td>\n",
              "      <td>118.270000</td>\n",
              "      <td>192.000000</td>\n",
              "      <td>10.160000</td>\n",
              "      <td>1029.400000</td>\n",
              "      <td>824.000000</td>\n",
              "      <td>56.000000</td>\n",
              "      <td>46.136287</td>\n",
              "    </tr>\n",
              "    <tr>\n",
              "      <th>max</th>\n",
              "      <td>540.000000</td>\n",
              "      <td>359.400000</td>\n",
              "      <td>200.100000</td>\n",
              "      <td>247.000000</td>\n",
              "      <td>32.200000</td>\n",
              "      <td>1145.000000</td>\n",
              "      <td>992.600000</td>\n",
              "      <td>365.000000</td>\n",
              "      <td>82.599225</td>\n",
              "    </tr>\n",
              "  </tbody>\n",
              "</table>\n",
              "</div>"
            ],
            "text/plain": [
              "       Cement (component 1)(kg in a m^3 mixture)  ...  Concrete compressive strength(MPa, megapascals) \n",
              "count                                1030.000000  ...                                       1030.000000\n",
              "mean                                  281.165631  ...                                         35.817836\n",
              "std                                   104.507142  ...                                         16.705679\n",
              "min                                   102.000000  ...                                          2.331808\n",
              "25%                                   192.375000  ...                                         23.707115\n",
              "50%                                   272.900000  ...                                         34.442774\n",
              "75%                                   350.000000  ...                                         46.136287\n",
              "max                                   540.000000  ...                                         82.599225\n",
              "\n",
              "[8 rows x 9 columns]"
            ]
          },
          "metadata": {
            "tags": []
          },
          "execution_count": 18
        }
      ]
    },
    {
      "cell_type": "markdown",
      "metadata": {
        "id": "oriJoG2vUSMv"
      },
      "source": [
        "Permite Visualizar os correlações entre as colunas, ex: A quantidade de Água pode ser negativa para Resistência à comrpessão, pois possuem uma correlação negativa, já o cimento e superplastificante uma correlação positiva. "
      ]
    },
    {
      "cell_type": "code",
      "metadata": {
        "colab": {
          "base_uri": "https://localhost:8080/",
          "height": 676
        },
        "id": "lmDs8utKTlv1",
        "outputId": "f4dead32-a496-44ae-f714-0ac532d75daa"
      },
      "source": [
        "data.corr()"
      ],
      "execution_count": null,
      "outputs": [
        {
          "output_type": "execute_result",
          "data": {
            "text/html": [
              "<div>\n",
              "<style scoped>\n",
              "    .dataframe tbody tr th:only-of-type {\n",
              "        vertical-align: middle;\n",
              "    }\n",
              "\n",
              "    .dataframe tbody tr th {\n",
              "        vertical-align: top;\n",
              "    }\n",
              "\n",
              "    .dataframe thead th {\n",
              "        text-align: right;\n",
              "    }\n",
              "</style>\n",
              "<table border=\"1\" class=\"dataframe\">\n",
              "  <thead>\n",
              "    <tr style=\"text-align: right;\">\n",
              "      <th></th>\n",
              "      <th>Cement (component 1)(kg in a m^3 mixture)</th>\n",
              "      <th>Blast Furnace Slag (component 2)(kg in a m^3 mixture)</th>\n",
              "      <th>Fly Ash (component 3)(kg in a m^3 mixture)</th>\n",
              "      <th>Water  (component 4)(kg in a m^3 mixture)</th>\n",
              "      <th>Superplasticizer (component 5)(kg in a m^3 mixture)</th>\n",
              "      <th>Coarse Aggregate  (component 6)(kg in a m^3 mixture)</th>\n",
              "      <th>Fine Aggregate (component 7)(kg in a m^3 mixture)</th>\n",
              "      <th>Age (day)</th>\n",
              "      <th>Concrete compressive strength(MPa, megapascals)</th>\n",
              "    </tr>\n",
              "  </thead>\n",
              "  <tbody>\n",
              "    <tr>\n",
              "      <th>Cement (component 1)(kg in a m^3 mixture)</th>\n",
              "      <td>1.000000</td>\n",
              "      <td>-0.275193</td>\n",
              "      <td>-0.397475</td>\n",
              "      <td>-0.081544</td>\n",
              "      <td>0.092771</td>\n",
              "      <td>-0.109356</td>\n",
              "      <td>-0.222720</td>\n",
              "      <td>0.081947</td>\n",
              "      <td>0.497833</td>\n",
              "    </tr>\n",
              "    <tr>\n",
              "      <th>Blast Furnace Slag (component 2)(kg in a m^3 mixture)</th>\n",
              "      <td>-0.275193</td>\n",
              "      <td>1.000000</td>\n",
              "      <td>-0.323569</td>\n",
              "      <td>0.107286</td>\n",
              "      <td>0.043376</td>\n",
              "      <td>-0.283998</td>\n",
              "      <td>-0.281593</td>\n",
              "      <td>-0.044246</td>\n",
              "      <td>0.134824</td>\n",
              "    </tr>\n",
              "    <tr>\n",
              "      <th>Fly Ash (component 3)(kg in a m^3 mixture)</th>\n",
              "      <td>-0.397475</td>\n",
              "      <td>-0.323569</td>\n",
              "      <td>1.000000</td>\n",
              "      <td>-0.257044</td>\n",
              "      <td>0.377340</td>\n",
              "      <td>-0.009977</td>\n",
              "      <td>0.079076</td>\n",
              "      <td>-0.154370</td>\n",
              "      <td>-0.105753</td>\n",
              "    </tr>\n",
              "    <tr>\n",
              "      <th>Water  (component 4)(kg in a m^3 mixture)</th>\n",
              "      <td>-0.081544</td>\n",
              "      <td>0.107286</td>\n",
              "      <td>-0.257044</td>\n",
              "      <td>1.000000</td>\n",
              "      <td>-0.657464</td>\n",
              "      <td>-0.182312</td>\n",
              "      <td>-0.450635</td>\n",
              "      <td>0.277604</td>\n",
              "      <td>-0.289613</td>\n",
              "    </tr>\n",
              "    <tr>\n",
              "      <th>Superplasticizer (component 5)(kg in a m^3 mixture)</th>\n",
              "      <td>0.092771</td>\n",
              "      <td>0.043376</td>\n",
              "      <td>0.377340</td>\n",
              "      <td>-0.657464</td>\n",
              "      <td>1.000000</td>\n",
              "      <td>-0.266303</td>\n",
              "      <td>0.222501</td>\n",
              "      <td>-0.192717</td>\n",
              "      <td>0.366102</td>\n",
              "    </tr>\n",
              "    <tr>\n",
              "      <th>Coarse Aggregate  (component 6)(kg in a m^3 mixture)</th>\n",
              "      <td>-0.109356</td>\n",
              "      <td>-0.283998</td>\n",
              "      <td>-0.009977</td>\n",
              "      <td>-0.182312</td>\n",
              "      <td>-0.266303</td>\n",
              "      <td>1.000000</td>\n",
              "      <td>-0.178506</td>\n",
              "      <td>-0.003016</td>\n",
              "      <td>-0.164928</td>\n",
              "    </tr>\n",
              "    <tr>\n",
              "      <th>Fine Aggregate (component 7)(kg in a m^3 mixture)</th>\n",
              "      <td>-0.222720</td>\n",
              "      <td>-0.281593</td>\n",
              "      <td>0.079076</td>\n",
              "      <td>-0.450635</td>\n",
              "      <td>0.222501</td>\n",
              "      <td>-0.178506</td>\n",
              "      <td>1.000000</td>\n",
              "      <td>-0.156094</td>\n",
              "      <td>-0.167249</td>\n",
              "    </tr>\n",
              "    <tr>\n",
              "      <th>Age (day)</th>\n",
              "      <td>0.081947</td>\n",
              "      <td>-0.044246</td>\n",
              "      <td>-0.154370</td>\n",
              "      <td>0.277604</td>\n",
              "      <td>-0.192717</td>\n",
              "      <td>-0.003016</td>\n",
              "      <td>-0.156094</td>\n",
              "      <td>1.000000</td>\n",
              "      <td>0.328877</td>\n",
              "    </tr>\n",
              "    <tr>\n",
              "      <th>Concrete compressive strength(MPa, megapascals)</th>\n",
              "      <td>0.497833</td>\n",
              "      <td>0.134824</td>\n",
              "      <td>-0.105753</td>\n",
              "      <td>-0.289613</td>\n",
              "      <td>0.366102</td>\n",
              "      <td>-0.164928</td>\n",
              "      <td>-0.167249</td>\n",
              "      <td>0.328877</td>\n",
              "      <td>1.000000</td>\n",
              "    </tr>\n",
              "  </tbody>\n",
              "</table>\n",
              "</div>"
            ],
            "text/plain": [
              "                                                    Cement (component 1)(kg in a m^3 mixture)  ...  Concrete compressive strength(MPa, megapascals) \n",
              "Cement (component 1)(kg in a m^3 mixture)                                            1.000000  ...                                          0.497833\n",
              "Blast Furnace Slag (component 2)(kg in a m^3 mi...                                  -0.275193  ...                                          0.134824\n",
              "Fly Ash (component 3)(kg in a m^3 mixture)                                          -0.397475  ...                                         -0.105753\n",
              "Water  (component 4)(kg in a m^3 mixture)                                           -0.081544  ...                                         -0.289613\n",
              "Superplasticizer (component 5)(kg in a m^3 mixt...                                   0.092771  ...                                          0.366102\n",
              "Coarse Aggregate  (component 6)(kg in a m^3 mix...                                  -0.109356  ...                                         -0.164928\n",
              "Fine Aggregate (component 7)(kg in a m^3 mixture)                                   -0.222720  ...                                         -0.167249\n",
              "Age (day)                                                                            0.081947  ...                                          0.328877\n",
              "Concrete compressive strength(MPa, megapascals)                                      0.497833  ...                                          1.000000\n",
              "\n",
              "[9 rows x 9 columns]"
            ]
          },
          "metadata": {
            "tags": []
          },
          "execution_count": 19
        }
      ]
    },
    {
      "cell_type": "markdown",
      "metadata": {
        "id": "kCIr2P7t7bFY"
      },
      "source": [
        "Cria as variável X para armazenar os atributos, retirarando a coluna Alvo/Resultado. Já a variável y para Armazenar o Label. Ou seja, separando os dados de entrada dos de saída."
      ]
    },
    {
      "cell_type": "code",
      "metadata": {
        "id": "BSepuPmuzFCJ"
      },
      "source": [
        "X = data.iloc[:, : -1] # todas as linhas, com todas as colunas menos a última\n",
        "y = data.iloc[:, -1] # todas as linhas, e apenas a última última coluna"
      ],
      "execution_count": null,
      "outputs": []
    },
    {
      "cell_type": "markdown",
      "metadata": {
        "id": "6H7rh-l68Jgd"
      },
      "source": [
        "Confere se realmente a variável X contém somente os dados de entrada. "
      ]
    },
    {
      "cell_type": "code",
      "metadata": {
        "colab": {
          "base_uri": "https://localhost:8080/",
          "height": 449
        },
        "id": "ZKHYdk897D7h",
        "outputId": "60a08395-9fea-4817-b035-e79f2725b090"
      },
      "source": [
        "X\n"
      ],
      "execution_count": null,
      "outputs": [
        {
          "output_type": "execute_result",
          "data": {
            "text/html": [
              "<div>\n",
              "<style scoped>\n",
              "    .dataframe tbody tr th:only-of-type {\n",
              "        vertical-align: middle;\n",
              "    }\n",
              "\n",
              "    .dataframe tbody tr th {\n",
              "        vertical-align: top;\n",
              "    }\n",
              "\n",
              "    .dataframe thead th {\n",
              "        text-align: right;\n",
              "    }\n",
              "</style>\n",
              "<table border=\"1\" class=\"dataframe\">\n",
              "  <thead>\n",
              "    <tr style=\"text-align: right;\">\n",
              "      <th></th>\n",
              "      <th>Cement (component 1)(kg in a m^3 mixture)</th>\n",
              "      <th>Blast Furnace Slag (component 2)(kg in a m^3 mixture)</th>\n",
              "      <th>Fly Ash (component 3)(kg in a m^3 mixture)</th>\n",
              "      <th>Water  (component 4)(kg in a m^3 mixture)</th>\n",
              "      <th>Superplasticizer (component 5)(kg in a m^3 mixture)</th>\n",
              "      <th>Coarse Aggregate  (component 6)(kg in a m^3 mixture)</th>\n",
              "      <th>Fine Aggregate (component 7)(kg in a m^3 mixture)</th>\n",
              "      <th>Age (day)</th>\n",
              "    </tr>\n",
              "  </thead>\n",
              "  <tbody>\n",
              "    <tr>\n",
              "      <th>0</th>\n",
              "      <td>540.0</td>\n",
              "      <td>0.0</td>\n",
              "      <td>0.0</td>\n",
              "      <td>162.0</td>\n",
              "      <td>2.5</td>\n",
              "      <td>1040.0</td>\n",
              "      <td>676.0</td>\n",
              "      <td>28</td>\n",
              "    </tr>\n",
              "    <tr>\n",
              "      <th>1</th>\n",
              "      <td>540.0</td>\n",
              "      <td>0.0</td>\n",
              "      <td>0.0</td>\n",
              "      <td>162.0</td>\n",
              "      <td>2.5</td>\n",
              "      <td>1055.0</td>\n",
              "      <td>676.0</td>\n",
              "      <td>28</td>\n",
              "    </tr>\n",
              "    <tr>\n",
              "      <th>2</th>\n",
              "      <td>332.5</td>\n",
              "      <td>142.5</td>\n",
              "      <td>0.0</td>\n",
              "      <td>228.0</td>\n",
              "      <td>0.0</td>\n",
              "      <td>932.0</td>\n",
              "      <td>594.0</td>\n",
              "      <td>270</td>\n",
              "    </tr>\n",
              "    <tr>\n",
              "      <th>3</th>\n",
              "      <td>332.5</td>\n",
              "      <td>142.5</td>\n",
              "      <td>0.0</td>\n",
              "      <td>228.0</td>\n",
              "      <td>0.0</td>\n",
              "      <td>932.0</td>\n",
              "      <td>594.0</td>\n",
              "      <td>365</td>\n",
              "    </tr>\n",
              "    <tr>\n",
              "      <th>4</th>\n",
              "      <td>198.6</td>\n",
              "      <td>132.4</td>\n",
              "      <td>0.0</td>\n",
              "      <td>192.0</td>\n",
              "      <td>0.0</td>\n",
              "      <td>978.4</td>\n",
              "      <td>825.5</td>\n",
              "      <td>360</td>\n",
              "    </tr>\n",
              "    <tr>\n",
              "      <th>...</th>\n",
              "      <td>...</td>\n",
              "      <td>...</td>\n",
              "      <td>...</td>\n",
              "      <td>...</td>\n",
              "      <td>...</td>\n",
              "      <td>...</td>\n",
              "      <td>...</td>\n",
              "      <td>...</td>\n",
              "    </tr>\n",
              "    <tr>\n",
              "      <th>1025</th>\n",
              "      <td>276.4</td>\n",
              "      <td>116.0</td>\n",
              "      <td>90.3</td>\n",
              "      <td>179.6</td>\n",
              "      <td>8.9</td>\n",
              "      <td>870.1</td>\n",
              "      <td>768.3</td>\n",
              "      <td>28</td>\n",
              "    </tr>\n",
              "    <tr>\n",
              "      <th>1026</th>\n",
              "      <td>322.2</td>\n",
              "      <td>0.0</td>\n",
              "      <td>115.6</td>\n",
              "      <td>196.0</td>\n",
              "      <td>10.4</td>\n",
              "      <td>817.9</td>\n",
              "      <td>813.4</td>\n",
              "      <td>28</td>\n",
              "    </tr>\n",
              "    <tr>\n",
              "      <th>1027</th>\n",
              "      <td>148.5</td>\n",
              "      <td>139.4</td>\n",
              "      <td>108.6</td>\n",
              "      <td>192.7</td>\n",
              "      <td>6.1</td>\n",
              "      <td>892.4</td>\n",
              "      <td>780.0</td>\n",
              "      <td>28</td>\n",
              "    </tr>\n",
              "    <tr>\n",
              "      <th>1028</th>\n",
              "      <td>159.1</td>\n",
              "      <td>186.7</td>\n",
              "      <td>0.0</td>\n",
              "      <td>175.6</td>\n",
              "      <td>11.3</td>\n",
              "      <td>989.6</td>\n",
              "      <td>788.9</td>\n",
              "      <td>28</td>\n",
              "    </tr>\n",
              "    <tr>\n",
              "      <th>1029</th>\n",
              "      <td>260.9</td>\n",
              "      <td>100.5</td>\n",
              "      <td>78.3</td>\n",
              "      <td>200.6</td>\n",
              "      <td>8.6</td>\n",
              "      <td>864.5</td>\n",
              "      <td>761.5</td>\n",
              "      <td>28</td>\n",
              "    </tr>\n",
              "  </tbody>\n",
              "</table>\n",
              "<p>1030 rows × 8 columns</p>\n",
              "</div>"
            ],
            "text/plain": [
              "      Cement (component 1)(kg in a m^3 mixture)  ...  Age (day)\n",
              "0                                         540.0  ...         28\n",
              "1                                         540.0  ...         28\n",
              "2                                         332.5  ...        270\n",
              "3                                         332.5  ...        365\n",
              "4                                         198.6  ...        360\n",
              "...                                         ...  ...        ...\n",
              "1025                                      276.4  ...         28\n",
              "1026                                      322.2  ...         28\n",
              "1027                                      148.5  ...         28\n",
              "1028                                      159.1  ...         28\n",
              "1029                                      260.9  ...         28\n",
              "\n",
              "[1030 rows x 8 columns]"
            ]
          },
          "metadata": {
            "tags": []
          },
          "execution_count": 21
        }
      ]
    },
    {
      "cell_type": "markdown",
      "metadata": {
        "id": "b69geRzD9uO2"
      },
      "source": [
        "Confere se a variável y possui apenas os valores do Target/Alvo/Outcome"
      ]
    },
    {
      "cell_type": "code",
      "metadata": {
        "colab": {
          "base_uri": "https://localhost:8080/"
        },
        "id": "hbA36_q69qRD",
        "outputId": "b742d844-4a02-42b3-d81a-a8b10df1af4f"
      },
      "source": [
        "y"
      ],
      "execution_count": null,
      "outputs": [
        {
          "output_type": "execute_result",
          "data": {
            "text/plain": [
              "0       79.986111\n",
              "1       61.887366\n",
              "2       40.269535\n",
              "3       41.052780\n",
              "4       44.296075\n",
              "          ...    \n",
              "1025    44.284354\n",
              "1026    31.178794\n",
              "1027    23.696601\n",
              "1028    32.768036\n",
              "1029    32.401235\n",
              "Name: Concrete compressive strength(MPa, megapascals) , Length: 1030, dtype: float64"
            ]
          },
          "metadata": {
            "tags": []
          },
          "execution_count": 22
        }
      ]
    },
    {
      "cell_type": "markdown",
      "metadata": {
        "id": "w5aH5hWq3gpl"
      },
      "source": [
        "Próxima linha vai misturar os dados(Randomizar) e fazer a divisão do dataset em dados de Treino e Teste. O método train_test_split do sklearn vai separar 30% do conjunto para teste e o restante para Treino, além de definir valor da semente de randomização."
      ]
    },
    {
      "cell_type": "code",
      "metadata": {
        "id": "tu2wF3FtzfBT"
      },
      "source": [
        "X_train, X_test, y_train, y_test = train_test_split(X, y, test_size=0.3, random_state=42)"
      ],
      "execution_count": null,
      "outputs": []
    },
    {
      "cell_type": "markdown",
      "metadata": {
        "id": "4_IN7pamMogZ"
      },
      "source": [
        "Conferindo que o dataset foi dividido, de fato no total são 1030 linhas, mas ele ficou com 721 para treino, o resto para teste. "
      ]
    },
    {
      "cell_type": "code",
      "metadata": {
        "colab": {
          "base_uri": "https://localhost:8080/",
          "height": 449
        },
        "id": "r0DD2VH2MeUA",
        "outputId": "0834620b-897b-4c0a-c3ff-48a6f90bf526"
      },
      "source": [
        "X_train"
      ],
      "execution_count": null,
      "outputs": [
        {
          "output_type": "execute_result",
          "data": {
            "text/html": [
              "<div>\n",
              "<style scoped>\n",
              "    .dataframe tbody tr th:only-of-type {\n",
              "        vertical-align: middle;\n",
              "    }\n",
              "\n",
              "    .dataframe tbody tr th {\n",
              "        vertical-align: top;\n",
              "    }\n",
              "\n",
              "    .dataframe thead th {\n",
              "        text-align: right;\n",
              "    }\n",
              "</style>\n",
              "<table border=\"1\" class=\"dataframe\">\n",
              "  <thead>\n",
              "    <tr style=\"text-align: right;\">\n",
              "      <th></th>\n",
              "      <th>Cement (component 1)(kg in a m^3 mixture)</th>\n",
              "      <th>Blast Furnace Slag (component 2)(kg in a m^3 mixture)</th>\n",
              "      <th>Fly Ash (component 3)(kg in a m^3 mixture)</th>\n",
              "      <th>Water  (component 4)(kg in a m^3 mixture)</th>\n",
              "      <th>Superplasticizer (component 5)(kg in a m^3 mixture)</th>\n",
              "      <th>Coarse Aggregate  (component 6)(kg in a m^3 mixture)</th>\n",
              "      <th>Fine Aggregate (component 7)(kg in a m^3 mixture)</th>\n",
              "      <th>Age (day)</th>\n",
              "    </tr>\n",
              "  </thead>\n",
              "  <tbody>\n",
              "    <tr>\n",
              "      <th>196</th>\n",
              "      <td>194.68</td>\n",
              "      <td>0.0</td>\n",
              "      <td>100.52</td>\n",
              "      <td>165.62</td>\n",
              "      <td>7.48</td>\n",
              "      <td>1006.4</td>\n",
              "      <td>905.90</td>\n",
              "      <td>28</td>\n",
              "    </tr>\n",
              "    <tr>\n",
              "      <th>631</th>\n",
              "      <td>325.00</td>\n",
              "      <td>0.0</td>\n",
              "      <td>0.00</td>\n",
              "      <td>184.00</td>\n",
              "      <td>0.00</td>\n",
              "      <td>1063.0</td>\n",
              "      <td>783.00</td>\n",
              "      <td>7</td>\n",
              "    </tr>\n",
              "    <tr>\n",
              "      <th>81</th>\n",
              "      <td>318.80</td>\n",
              "      <td>212.5</td>\n",
              "      <td>0.00</td>\n",
              "      <td>155.70</td>\n",
              "      <td>14.30</td>\n",
              "      <td>852.1</td>\n",
              "      <td>880.40</td>\n",
              "      <td>3</td>\n",
              "    </tr>\n",
              "    <tr>\n",
              "      <th>526</th>\n",
              "      <td>359.00</td>\n",
              "      <td>19.0</td>\n",
              "      <td>141.00</td>\n",
              "      <td>154.00</td>\n",
              "      <td>10.91</td>\n",
              "      <td>942.0</td>\n",
              "      <td>801.00</td>\n",
              "      <td>3</td>\n",
              "    </tr>\n",
              "    <tr>\n",
              "      <th>830</th>\n",
              "      <td>162.00</td>\n",
              "      <td>190.0</td>\n",
              "      <td>148.00</td>\n",
              "      <td>179.00</td>\n",
              "      <td>19.00</td>\n",
              "      <td>838.0</td>\n",
              "      <td>741.00</td>\n",
              "      <td>28</td>\n",
              "    </tr>\n",
              "    <tr>\n",
              "      <th>...</th>\n",
              "      <td>...</td>\n",
              "      <td>...</td>\n",
              "      <td>...</td>\n",
              "      <td>...</td>\n",
              "      <td>...</td>\n",
              "      <td>...</td>\n",
              "      <td>...</td>\n",
              "      <td>...</td>\n",
              "    </tr>\n",
              "    <tr>\n",
              "      <th>87</th>\n",
              "      <td>286.30</td>\n",
              "      <td>200.9</td>\n",
              "      <td>0.00</td>\n",
              "      <td>144.70</td>\n",
              "      <td>11.20</td>\n",
              "      <td>1004.6</td>\n",
              "      <td>803.70</td>\n",
              "      <td>3</td>\n",
              "    </tr>\n",
              "    <tr>\n",
              "      <th>330</th>\n",
              "      <td>246.83</td>\n",
              "      <td>0.0</td>\n",
              "      <td>125.08</td>\n",
              "      <td>143.30</td>\n",
              "      <td>11.99</td>\n",
              "      <td>1086.8</td>\n",
              "      <td>800.89</td>\n",
              "      <td>14</td>\n",
              "    </tr>\n",
              "    <tr>\n",
              "      <th>466</th>\n",
              "      <td>190.34</td>\n",
              "      <td>0.0</td>\n",
              "      <td>125.18</td>\n",
              "      <td>166.61</td>\n",
              "      <td>9.88</td>\n",
              "      <td>1079.0</td>\n",
              "      <td>798.90</td>\n",
              "      <td>100</td>\n",
              "    </tr>\n",
              "    <tr>\n",
              "      <th>121</th>\n",
              "      <td>475.00</td>\n",
              "      <td>118.8</td>\n",
              "      <td>0.00</td>\n",
              "      <td>181.10</td>\n",
              "      <td>8.90</td>\n",
              "      <td>852.1</td>\n",
              "      <td>781.50</td>\n",
              "      <td>28</td>\n",
              "    </tr>\n",
              "    <tr>\n",
              "      <th>860</th>\n",
              "      <td>314.00</td>\n",
              "      <td>0.0</td>\n",
              "      <td>113.00</td>\n",
              "      <td>170.00</td>\n",
              "      <td>10.00</td>\n",
              "      <td>925.0</td>\n",
              "      <td>783.00</td>\n",
              "      <td>28</td>\n",
              "    </tr>\n",
              "  </tbody>\n",
              "</table>\n",
              "<p>721 rows × 8 columns</p>\n",
              "</div>"
            ],
            "text/plain": [
              "     Cement (component 1)(kg in a m^3 mixture)  ...  Age (day)\n",
              "196                                     194.68  ...         28\n",
              "631                                     325.00  ...          7\n",
              "81                                      318.80  ...          3\n",
              "526                                     359.00  ...          3\n",
              "830                                     162.00  ...         28\n",
              "..                                         ...  ...        ...\n",
              "87                                      286.30  ...          3\n",
              "330                                     246.83  ...         14\n",
              "466                                     190.34  ...        100\n",
              "121                                     475.00  ...         28\n",
              "860                                     314.00  ...         28\n",
              "\n",
              "[721 rows x 8 columns]"
            ]
          },
          "metadata": {
            "tags": []
          },
          "execution_count": 24
        }
      ]
    },
    {
      "cell_type": "markdown",
      "metadata": {
        "id": "domGxA-3Bgcx"
      },
      "source": [
        "os nossos resultados usando a métrica RMSE(root mean squared error - raiz quadrática média) devem ser melhor do que o desvio padrão de y_train:(Um melhor resultado para RMSE é um valor menor que o mostrado abaixo)"
      ]
    },
    {
      "cell_type": "code",
      "metadata": {
        "colab": {
          "base_uri": "https://localhost:8080/"
        },
        "id": "cBLMWTRD0L9L",
        "outputId": "95c67705-ecc2-4295-f9e9-28b95297d7d9"
      },
      "source": [
        "np.std(y_train)"
      ],
      "execution_count": null,
      "outputs": [
        {
          "output_type": "execute_result",
          "data": {
            "text/plain": [
              "16.791744896796608"
            ]
          },
          "metadata": {
            "tags": []
          },
          "execution_count": 27
        }
      ]
    },
    {
      "cell_type": "markdown",
      "metadata": {
        "id": "jBMl1v5myQgo"
      },
      "source": [
        "As próximas linhas fazem o escalonamento, para reduzir os efeitos da discrepâncias entre os valores dos atributos. Todos os valores serão tranformados entre 0 ou 1. Aumentando a possibilidade de precisão do algoritmo"
      ]
    },
    {
      "cell_type": "markdown",
      "metadata": {
        "id": "WdSt7l9ITSQ2"
      },
      "source": [
        "MinMax Scaler"
      ]
    },
    {
      "cell_type": "code",
      "metadata": {
        "id": "Fojy7IcKATIn"
      },
      "source": [
        "scaler = preprocessing.MinMaxScaler()\n",
        "X_train_minmax = scaler.fit_transform(X_train)\n",
        "X_test_minmax = scaler.transform(X_test)"
      ],
      "execution_count": null,
      "outputs": []
    },
    {
      "cell_type": "markdown",
      "metadata": {
        "id": "SudSiqkITUOd"
      },
      "source": [
        "Standard Scaler"
      ]
    },
    {
      "cell_type": "code",
      "metadata": {
        "id": "huAxFJYXAYiB"
      },
      "source": [
        "scaler = preprocessing.StandardScaler()\n",
        "X_train_std = scaler.fit_transform(X_train)\n",
        "X_test_std = scaler.transform(X_test)"
      ],
      "execution_count": null,
      "outputs": []
    },
    {
      "cell_type": "markdown",
      "metadata": {
        "id": "joe2TFh7DxgB"
      },
      "source": [
        "Cálculo dos Resultados: Nas próximas linhas é criado o modelo usando o KNN para Regressão, realiza o treinamento, usa o modelo para fazer a predição, define a métrica de desempenho, que é o erro quadrático médio, e por último apresenta os resultados. "
      ]
    },
    {
      "cell_type": "code",
      "metadata": {
        "id": "o8zbj2QYAjGo"
      },
      "source": [
        "ks = [3, 5, 7, 9, 11]\n",
        "scalers = ['no scaler', 'minmax', 'std']\n",
        "\n",
        "results = []\n",
        "for k in ks:\n",
        "    for scaler in scalers:\n",
        "        if scaler == 'minmax':\n",
        "            X_train_, X_test_ = X_train_minmax, X_test_minmax\n",
        "        elif scaler == 'std':\n",
        "            X_train_, X_test_ = X_train_std, X_test_std\n",
        "        else:\n",
        "            X_train_, X_test_ = X_train, X_test\n",
        "\n",
        "        model = neighbors.KNeighborsRegressor(n_neighbors = k)\n",
        "        model.fit(X_train_, y_train)\n",
        "        y_pred = model.predict(X_test_)\n",
        "        rmse = metrics.mean_squared_error(y_test, y_pred, squared=False)\n",
        "        result = { 'k': k, 'scaler': scaler, 'rmse': rmse}\n",
        "        results.append(result)"
      ],
      "execution_count": null,
      "outputs": []
    },
    {
      "cell_type": "markdown",
      "metadata": {
        "id": "U2OzoywrECOo"
      },
      "source": [
        "Apresentação dos Resultados do melhor para o pior e avaliação do modelo"
      ]
    },
    {
      "cell_type": "code",
      "metadata": {
        "colab": {
          "base_uri": "https://localhost:8080/",
          "height": 510
        },
        "id": "G6nIRzzFAruC",
        "outputId": "18474d83-bc5e-4a66-bf90-8a15a14a3d74"
      },
      "source": [
        "df_results = pd.DataFrame(results)\n",
        "df_results.sort_values(by='rmse')"
      ],
      "execution_count": null,
      "outputs": [
        {
          "output_type": "execute_result",
          "data": {
            "text/html": [
              "<div>\n",
              "<style scoped>\n",
              "    .dataframe tbody tr th:only-of-type {\n",
              "        vertical-align: middle;\n",
              "    }\n",
              "\n",
              "    .dataframe tbody tr th {\n",
              "        vertical-align: top;\n",
              "    }\n",
              "\n",
              "    .dataframe thead th {\n",
              "        text-align: right;\n",
              "    }\n",
              "</style>\n",
              "<table border=\"1\" class=\"dataframe\">\n",
              "  <thead>\n",
              "    <tr style=\"text-align: right;\">\n",
              "      <th></th>\n",
              "      <th>k</th>\n",
              "      <th>scaler</th>\n",
              "      <th>rmse</th>\n",
              "    </tr>\n",
              "  </thead>\n",
              "  <tbody>\n",
              "    <tr>\n",
              "      <th>0</th>\n",
              "      <td>3</td>\n",
              "      <td>no scaler</td>\n",
              "      <td>9.309468</td>\n",
              "    </tr>\n",
              "    <tr>\n",
              "      <th>2</th>\n",
              "      <td>3</td>\n",
              "      <td>std</td>\n",
              "      <td>9.343958</td>\n",
              "    </tr>\n",
              "    <tr>\n",
              "      <th>3</th>\n",
              "      <td>5</td>\n",
              "      <td>no scaler</td>\n",
              "      <td>9.345191</td>\n",
              "    </tr>\n",
              "    <tr>\n",
              "      <th>5</th>\n",
              "      <td>5</td>\n",
              "      <td>std</td>\n",
              "      <td>9.451570</td>\n",
              "    </tr>\n",
              "    <tr>\n",
              "      <th>8</th>\n",
              "      <td>7</td>\n",
              "      <td>std</td>\n",
              "      <td>9.571847</td>\n",
              "    </tr>\n",
              "    <tr>\n",
              "      <th>6</th>\n",
              "      <td>7</td>\n",
              "      <td>no scaler</td>\n",
              "      <td>9.706674</td>\n",
              "    </tr>\n",
              "    <tr>\n",
              "      <th>11</th>\n",
              "      <td>9</td>\n",
              "      <td>std</td>\n",
              "      <td>9.766121</td>\n",
              "    </tr>\n",
              "    <tr>\n",
              "      <th>4</th>\n",
              "      <td>5</td>\n",
              "      <td>minmax</td>\n",
              "      <td>9.768481</td>\n",
              "    </tr>\n",
              "    <tr>\n",
              "      <th>1</th>\n",
              "      <td>3</td>\n",
              "      <td>minmax</td>\n",
              "      <td>9.797540</td>\n",
              "    </tr>\n",
              "    <tr>\n",
              "      <th>7</th>\n",
              "      <td>7</td>\n",
              "      <td>minmax</td>\n",
              "      <td>10.033515</td>\n",
              "    </tr>\n",
              "    <tr>\n",
              "      <th>14</th>\n",
              "      <td>11</td>\n",
              "      <td>std</td>\n",
              "      <td>10.033663</td>\n",
              "    </tr>\n",
              "    <tr>\n",
              "      <th>9</th>\n",
              "      <td>9</td>\n",
              "      <td>no scaler</td>\n",
              "      <td>10.085012</td>\n",
              "    </tr>\n",
              "    <tr>\n",
              "      <th>10</th>\n",
              "      <td>9</td>\n",
              "      <td>minmax</td>\n",
              "      <td>10.263635</td>\n",
              "    </tr>\n",
              "    <tr>\n",
              "      <th>12</th>\n",
              "      <td>11</td>\n",
              "      <td>no scaler</td>\n",
              "      <td>10.376661</td>\n",
              "    </tr>\n",
              "    <tr>\n",
              "      <th>13</th>\n",
              "      <td>11</td>\n",
              "      <td>minmax</td>\n",
              "      <td>10.428264</td>\n",
              "    </tr>\n",
              "  </tbody>\n",
              "</table>\n",
              "</div>"
            ],
            "text/plain": [
              "     k     scaler       rmse\n",
              "0    3  no scaler   9.309468\n",
              "2    3        std   9.343958\n",
              "3    5  no scaler   9.345191\n",
              "5    5        std   9.451570\n",
              "8    7        std   9.571847\n",
              "6    7  no scaler   9.706674\n",
              "11   9        std   9.766121\n",
              "4    5     minmax   9.768481\n",
              "1    3     minmax   9.797540\n",
              "7    7     minmax  10.033515\n",
              "14  11        std  10.033663\n",
              "9    9  no scaler  10.085012\n",
              "10   9     minmax  10.263635\n",
              "12  11  no scaler  10.376661\n",
              "13  11     minmax  10.428264"
            ]
          },
          "metadata": {
            "tags": []
          },
          "execution_count": 29
        }
      ]
    },
    {
      "cell_type": "code",
      "metadata": {
        "id": "V9u-Z9HyCJhg"
      },
      "source": [
        ""
      ],
      "execution_count": null,
      "outputs": []
    },
    {
      "cell_type": "markdown",
      "metadata": {
        "id": "z5cZVGKk8D59"
      },
      "source": [
        "Com base no desvio padrão anterior de 16, o modelo consegue fazer previsões com desvio padrão menor, entre 9 e 10. Por exemplo se o Fck médio é 35, ele vai predizer um Fck entre 35 - 9 ou 35 + 9. \n",
        "\n",
        "Obrigado! "
      ]
    },
    {
      "cell_type": "markdown",
      "metadata": {
        "id": "h2kWWM2qP2Ta"
      },
      "source": [
        "Referências: \n",
        "\n",
        "I-Cheng Yeh, \"Modeling of strength of high performance concrete using artificial neural networks,\" Cement and Concrete Research, Vol. 28, No. 12, pp. 1797-1808 (1998)."
      ]
    }
  ]
}